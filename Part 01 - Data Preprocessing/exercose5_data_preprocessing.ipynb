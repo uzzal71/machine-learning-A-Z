{
 "cells": [
  {
   "cell_type": "markdown",
   "metadata": {},
   "source": [
    "- Import necessary libraries\n",
    "- Load the Wine Quality Red dataset\n",
    "- Separate features and target\n",
    "- Split the dataset into an 80-20 training-test set\n",
    "- Create an instance of the StandardScaler class\n",
    "- Fit the StandardScaler on the features from the training set and transform it\n",
    "- Apply the transform to the test set\n",
    "- Print the scaled training and test datasets"
   ]
  },
  {
   "cell_type": "markdown",
   "metadata": {},
   "source": [
    "\n",
    "Coding exercise 5: Feature scaling for Machine Learning\n",
    "\n",
    "1. Import the necessary libraries for data preprocessing, including the StandardScaler and train_test_split classes.\n",
    "\n",
    "2. Load the \"Wine Quality Red\" dataset into a pandas DataFrame. You can use the pd.read_csv function for this. Make sure you set the correct delimeter for the file.\n",
    "\n",
    "3. Split your dataset into an 80-20 training-test set. Set random_state to 42 to ensure reproducible results.\n",
    "\n",
    "4. Create an instance of the StandardScaler class.\n",
    "\n",
    "5. Fit the StandardScaler on features from the training set, excluding the target variable 'Quality'.\n",
    "\n",
    "6. Use the \"fit_transform\" method of the StandardScaler object on the training dataset.\n",
    "\n",
    "7. Apply the \"transform\" method of the StandardScaler object on the test dataset.\n",
    "\n",
    "8. Print your scaled training and test datasets to verify the feature scaling process."
   ]
  }
 ],
 "metadata": {
  "language_info": {
   "name": "python"
  }
 },
 "nbformat": 4,
 "nbformat_minor": 2
}
