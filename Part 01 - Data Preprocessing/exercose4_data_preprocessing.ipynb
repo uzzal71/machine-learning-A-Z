{
 "cells": [
  {
   "cell_type": "markdown",
   "metadata": {},
   "source": [
    "- Import necessary libraries\n",
    "- Load the Iris dataset\n",
    "- Separate features and target\n",
    "- Split the dataset into an 80-20 training-test set\n",
    "- Apply feature scaling on the training and test sets\n",
    "- Print the scaled training and test sets"
   ]
  },
  {
   "cell_type": "markdown",
   "metadata": {},
   "source": [
    "\n",
    "Coding Exercise 4: Dataset Splitting and Feature Scaling\n",
    "\n",
    "1. Import necessary Python libraries: pandas, train_test_split from sklearn.model_selection, and StandardScaler from sklearn.preprocessing.\n",
    "\n",
    "2. Load the Iris dataset using Pandas read.csv. Dataset name is iris.csv.\n",
    "\n",
    "3. Use train_test_split to split the dataset into an 80-20 training-test set.\n",
    "\n",
    "4. Apply random_state with 42 value in train_test_split function for reproducible results.\n",
    "\n",
    "5. Print X_train, X_test, Y_train, and Y_test to understand the dataset split.\n",
    "\n",
    "6. Use StandardScaler to apply feature scaling on the training and test sets.\n",
    "\n",
    "7. Print scaled training and test sets to verify feature scaling."
   ]
  }
 ],
 "metadata": {
  "language_info": {
   "name": "python"
  }
 },
 "nbformat": 4,
 "nbformat_minor": 2
}
