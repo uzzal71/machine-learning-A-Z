{
 "cells": [
  {
   "cell_type": "markdown",
   "metadata": {},
   "source": [
    "- Importing the necessary libraries\n",
    "- Load the dataset\n",
    "- Identify the categorical data\n",
    "- Implement an instance of the ColumnTransformer class\n",
    "- Apply the fit_transform method on the instance of ColumnTransformer\n",
    "- Convert the output into a NumPy array\n",
    "- Use LabelEncoder to encode binary categorical data\n",
    "- Print the updated matrix of features and the dependent variable vector"
   ]
  },
  {
   "cell_type": "markdown",
   "metadata": {},
   "source": [
    "Coding Exercise 3: Encoding Categorical Data for Machine Learning\n",
    "\n",
    "1. Import required libraries - Pandas, Numpy, and required classes for this task - ColumnTransformer, OneHotEncoder, LabelEncoder.\n",
    "\n",
    "2. Start by loading the Titanic dataset into a pandas data frame. This can be done using the pd.read_csv function. The dataset's name is 'titanic.csv'.\n",
    "\n",
    "3. Identify the categorical features in your dataset that need to be encoded. You can store these feature names in a list for easy access later.\n",
    "\n",
    "4. To apply OneHotEncoding to these categorical features, create an instance of the ColumnTransformer class. Make sure to pass the OneHotEncoder() as an argument along with the list of categorical features.\n",
    "\n",
    "5. Use the fit_transform method on the instance of ColumnTransformer to apply the OneHotEncoding.\n",
    "\n",
    "6. The output of the fit_transform method should be converted into a NumPy array for further use.\n",
    "\n",
    "7. The 'Survived' column in your dataset is the dependent variable. This is a binary categorical variable that should be encoded using LabelEncoder.\n",
    "\n",
    "8.  Print the updated matrix of features and the dependent variable vector"
   ]
  }
 ],
 "metadata": {
  "language_info": {
   "name": "python"
  }
 },
 "nbformat": 4,
 "nbformat_minor": 2
}
