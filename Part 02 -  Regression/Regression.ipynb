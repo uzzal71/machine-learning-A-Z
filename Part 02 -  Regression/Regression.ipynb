{
 "cells": [
  {
   "cell_type": "markdown",
   "metadata": {},
   "source": [
    "Regression models (both linear and non-linear) are used for predicting a real value, like salary for example. If your independent variable is time, then you are forecasting future values, otherwise your model is predicting present but unknown values. Regression technique vary from Linear Regression to SVR and Random Forests Regression.\n",
    "\n",
    "In this part, you will understand and learn how to implement the following Machine Learning Regression models:\n",
    "\n",
    "1. Simple Linear Regression\n",
    "\n",
    "2. Multiple Linear Regression\n",
    "\n",
    "3. Polynomial Regression\n",
    "\n",
    "4. Support Vector for Regression (SVR)\n",
    "\n",
    "6. Decision Tree Regression\n",
    "\n",
    "7. Random Forest Regression"
   ]
  }
 ],
 "metadata": {
  "language_info": {
   "name": "python"
  }
 },
 "nbformat": 4,
 "nbformat_minor": 2
}
